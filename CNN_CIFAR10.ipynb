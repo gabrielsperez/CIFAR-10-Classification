{
  "nbformat": 4,
  "nbformat_minor": 0,
  "metadata": {
    "colab": {
      "name": "CNN-CIFAR10.ipynb",
      "version": "0.3.2",
      "provenance": [],
      "collapsed_sections": [],
      "include_colab_link": true
    },
    "kernelspec": {
      "name": "python3",
      "display_name": "Python 3"
    },
    "accelerator": "GPU"
  },
  "cells": [
    {
      "cell_type": "markdown",
      "metadata": {
        "id": "view-in-github",
        "colab_type": "text"
      },
      "source": [
        "<a href=\"https://colab.research.google.com/github/gabrielsperez/CIFAR-10-Classification/blob/master/CNN_CIFAR10.ipynb\" target=\"_parent\"><img src=\"https://colab.research.google.com/assets/colab-badge.svg\" alt=\"Open In Colab\"/></a>"
      ]
    },
    {
      "metadata": {
        "id": "PcpD9DW2GUyH",
        "colab_type": "text"
      },
      "cell_type": "markdown",
      "source": [
        "**3-Layer CCN Classifier using CIFAR10 Dataset**\n",
        "\n",
        "1. The model was implemented and trained using Google Colab\n",
        "2. The model uses the following Regularization techniques: L2 Regularization and Dropout\n",
        "3. It uses the following Optimization techniques: Batch normalization and Adam algorithm\n",
        "4. It uses He normal initializer.\n",
        "5. It uses the following activation functions: ELU (Exponential Linear Unit) for the hidden layers and Softmax for the output layer"
      ]
    },
    {
      "metadata": {
        "id": "SbGRkXqXN4kZ",
        "colab_type": "code",
        "outputId": "d92abb89-a012-4429-c541-028a1edca6d8",
        "colab": {
          "base_uri": "https://localhost:8080/",
          "height": 34
        }
      },
      "cell_type": "code",
      "source": [
        "import keras\n",
        "from keras import optimizers\n",
        "from keras.datasets import cifar10\n",
        "from keras.models import Sequential\n",
        "from keras.layers import Conv2D, Dense, Flatten, MaxPooling2D, Dropout, BatchNormalization, GlobalAveragePooling2D\n",
        "from keras.callbacks import LearningRateScheduler, TensorBoard\n",
        "from matplotlib import pyplot as plt\n",
        "from keras.preprocessing.image import ImageDataGenerator\n",
        "from keras import regularizers"
      ],
      "execution_count": 0,
      "outputs": [
        {
          "output_type": "stream",
          "text": [
            "Using TensorFlow backend.\n"
          ],
          "name": "stderr"
        }
      ]
    },
    {
      "metadata": {
        "id": "mcT-mJSpgqx5",
        "colab_type": "text"
      },
      "cell_type": "markdown",
      "source": [
        "Load the dataset"
      ]
    },
    {
      "metadata": {
        "id": "GHyro2HUoWdX",
        "colab_type": "code",
        "colab": {}
      },
      "cell_type": "code",
      "source": [
        "(x_train, y_train), (x_test, y_test) = cifar10.load_data()\n",
        "y_train = keras.utils.to_categorical(y_train, 10)\n",
        "y_test = keras.utils.to_categorical(y_test, 10)\n",
        "x_train = x_train.astype('float32')\n",
        "x_test = x_test.astype('float32')\n",
        "x_train /= 255.0\n",
        "x_test /= 255.0"
      ],
      "execution_count": 0,
      "outputs": []
    },
    {
      "metadata": {
        "id": "qEyAxMCqpxWE",
        "colab_type": "code",
        "outputId": "295e9687-0473-4013-f426-6a912d52f92c",
        "colab": {
          "base_uri": "https://localhost:8080/",
          "height": 52
        }
      },
      "cell_type": "code",
      "source": [
        "print(\"Training set size:\\t\",len(x_train))\n",
        "print(\"Testing set size:\\t\",len(x_test))"
      ],
      "execution_count": 0,
      "outputs": [
        {
          "output_type": "stream",
          "text": [
            "Training set size:\t 50000\n",
            "Testing set size:\t 10000\n"
          ],
          "name": "stdout"
        }
      ]
    },
    {
      "metadata": {
        "id": "8YjTNKWZgvgf",
        "colab_type": "text"
      },
      "cell_type": "markdown",
      "source": [
        "Build the model"
      ]
    },
    {
      "metadata": {
        "id": "YFV_DKCF9-Wu",
        "colab_type": "code",
        "colab": {}
      },
      "cell_type": "code",
      "source": [
        "def build_model():\n",
        "    model = Sequential()\n",
        "    model.add(Conv2D(32, (3, 3), padding='same', activation = 'elu', kernel_regularizer=regularizers.l2(1e-4), kernel_initializer='he_normal', input_shape=(32,32,3)))\n",
        "    model.add(BatchNormalization())\n",
        "    model.add(MaxPooling2D((2, 2), strides=(2, 2)))\n",
        "    model.add(Dropout(0.2))\n",
        "    \n",
        "    model.add(Conv2D(64, (3, 3), padding='same', activation = 'elu', kernel_regularizer=regularizers.l2(1e-4), kernel_initializer='he_normal'))\n",
        "    model.add(BatchNormalization())\n",
        "    model.add(MaxPooling2D((2, 2), strides=(2, 2)))\n",
        "    model.add(Dropout(0.3))\n",
        "    \n",
        "    model.add(Conv2D(192, (3, 3), padding='same', kernel_regularizer=regularizers.l2(1e-4), kernel_initializer='he_normal'))\n",
        "    model.add(BatchNormalization())\n",
        "    model.add(MaxPooling2D(pool_size=(2,2)))\n",
        "    model.add(Dropout(0.4))\n",
        "\n",
        "    model.add(GlobalAveragePooling2D())\n",
        "    model.add(Dense(10, activation = 'softmax', kernel_initializer='he_normal'))\n",
        "    \n",
        "    return model"
      ],
      "execution_count": 0,
      "outputs": []
    },
    {
      "metadata": {
        "id": "XsHlA3lqo10n",
        "colab_type": "code",
        "outputId": "54e8b5ba-be1c-4178-8506-ee82182cfdcf",
        "colab": {
          "base_uri": "https://localhost:8080/",
          "height": 792
        }
      },
      "cell_type": "code",
      "source": [
        "model = build_model()\n",
        "print(model.summary())"
      ],
      "execution_count": 0,
      "outputs": [
        {
          "output_type": "stream",
          "text": [
            "WARNING:tensorflow:From /usr/local/lib/python3.6/dist-packages/tensorflow/python/framework/op_def_library.py:263: colocate_with (from tensorflow.python.framework.ops) is deprecated and will be removed in a future version.\n",
            "Instructions for updating:\n",
            "Colocations handled automatically by placer.\n",
            "WARNING:tensorflow:From /usr/local/lib/python3.6/dist-packages/keras/backend/tensorflow_backend.py:3445: calling dropout (from tensorflow.python.ops.nn_ops) with keep_prob is deprecated and will be removed in a future version.\n",
            "Instructions for updating:\n",
            "Please use `rate` instead of `keep_prob`. Rate should be set to `rate = 1 - keep_prob`.\n",
            "_________________________________________________________________\n",
            "Layer (type)                 Output Shape              Param #   \n",
            "=================================================================\n",
            "conv2d_1 (Conv2D)            (None, 32, 32, 32)        896       \n",
            "_________________________________________________________________\n",
            "batch_normalization_1 (Batch (None, 32, 32, 32)        128       \n",
            "_________________________________________________________________\n",
            "max_pooling2d_1 (MaxPooling2 (None, 16, 16, 32)        0         \n",
            "_________________________________________________________________\n",
            "dropout_1 (Dropout)          (None, 16, 16, 32)        0         \n",
            "_________________________________________________________________\n",
            "conv2d_2 (Conv2D)            (None, 16, 16, 64)        18496     \n",
            "_________________________________________________________________\n",
            "batch_normalization_2 (Batch (None, 16, 16, 64)        256       \n",
            "_________________________________________________________________\n",
            "max_pooling2d_2 (MaxPooling2 (None, 8, 8, 64)          0         \n",
            "_________________________________________________________________\n",
            "dropout_2 (Dropout)          (None, 8, 8, 64)          0         \n",
            "_________________________________________________________________\n",
            "conv2d_3 (Conv2D)            (None, 8, 8, 192)         110784    \n",
            "_________________________________________________________________\n",
            "batch_normalization_3 (Batch (None, 8, 8, 192)         768       \n",
            "_________________________________________________________________\n",
            "max_pooling2d_3 (MaxPooling2 (None, 4, 4, 192)         0         \n",
            "_________________________________________________________________\n",
            "dropout_3 (Dropout)          (None, 4, 4, 192)         0         \n",
            "_________________________________________________________________\n",
            "global_average_pooling2d_1 ( (None, 192)               0         \n",
            "_________________________________________________________________\n",
            "dense_1 (Dense)              (None, 10)                1930      \n",
            "=================================================================\n",
            "Total params: 133,258\n",
            "Trainable params: 132,682\n",
            "Non-trainable params: 576\n",
            "_________________________________________________________________\n",
            "None\n"
          ],
          "name": "stdout"
        }
      ]
    },
    {
      "metadata": {
        "id": "aSbpzzk2ijiO",
        "colab_type": "text"
      },
      "cell_type": "markdown",
      "source": [
        "Configure the model for training"
      ]
    },
    {
      "metadata": {
        "id": "aRH9yV1V-Cya",
        "colab_type": "code",
        "colab": {}
      },
      "cell_type": "code",
      "source": [
        "adam = keras.optimizers.Adam(lr=0.001, beta_1=0.9, beta_2=0.999, epsilon=None, decay=0.0, amsgrad=False)\n",
        "model.compile(loss='categorical_crossentropy', optimizer=adam, metrics=['accuracy'])"
      ],
      "execution_count": 0,
      "outputs": []
    },
    {
      "metadata": {
        "id": "D36TAgOpisRn",
        "colab_type": "text"
      },
      "cell_type": "markdown",
      "source": [
        "Fit the model"
      ]
    },
    {
      "metadata": {
        "id": "KWUSaaT8pd6t",
        "colab_type": "code",
        "outputId": "21c1324b-a064-4e85-a850-834a87179fd0",
        "colab": {
          "base_uri": "https://localhost:8080/",
          "height": 7308
        }
      },
      "cell_type": "code",
      "source": [
        "history = model.fit(x_train, y_train,\n",
        "              batch_size=128,\n",
        "              epochs=200,\n",
        "              validation_data=(x_test, y_test),\n",
        "              shuffle=True)"
      ],
      "execution_count": 0,
      "outputs": [
        {
          "output_type": "stream",
          "text": [
            "WARNING:tensorflow:From /usr/local/lib/python3.6/dist-packages/tensorflow/python/ops/math_ops.py:3066: to_int32 (from tensorflow.python.ops.math_ops) is deprecated and will be removed in a future version.\n",
            "Instructions for updating:\n",
            "Use tf.cast instead.\n",
            "Train on 50000 samples, validate on 10000 samples\n",
            "Epoch 1/200\n",
            "50000/50000 [==============================] - 14s 290us/step - loss: 1.6887 - acc: 0.4081 - val_loss: 1.8362 - val_acc: 0.3670\n",
            "Epoch 2/200\n",
            "50000/50000 [==============================] - 12s 242us/step - loss: 1.4341 - acc: 0.5080 - val_loss: 1.3452 - val_acc: 0.5343\n",
            "Epoch 3/200\n",
            "50000/50000 [==============================] - 12s 241us/step - loss: 1.3411 - acc: 0.5432 - val_loss: 1.3543 - val_acc: 0.5351\n",
            "Epoch 4/200\n",
            "50000/50000 [==============================] - 12s 238us/step - loss: 1.2785 - acc: 0.5689 - val_loss: 1.2565 - val_acc: 0.5715\n",
            "Epoch 5/200\n",
            "50000/50000 [==============================] - 12s 235us/step - loss: 1.2337 - acc: 0.5851 - val_loss: 1.1732 - val_acc: 0.6099\n",
            "Epoch 6/200\n",
            "50000/50000 [==============================] - 12s 235us/step - loss: 1.1913 - acc: 0.6039 - val_loss: 1.1817 - val_acc: 0.6051\n",
            "Epoch 7/200\n",
            "50000/50000 [==============================] - 12s 232us/step - loss: 1.1591 - acc: 0.6120 - val_loss: 1.2761 - val_acc: 0.5655\n",
            "Epoch 8/200\n",
            "50000/50000 [==============================] - 12s 234us/step - loss: 1.1373 - acc: 0.6213 - val_loss: 1.1233 - val_acc: 0.6318\n",
            "Epoch 9/200\n",
            "50000/50000 [==============================] - 12s 233us/step - loss: 1.1136 - acc: 0.6309 - val_loss: 1.2749 - val_acc: 0.5574\n",
            "Epoch 10/200\n",
            "50000/50000 [==============================] - 12s 238us/step - loss: 1.0929 - acc: 0.6382 - val_loss: 1.0985 - val_acc: 0.6347\n",
            "Epoch 11/200\n",
            "50000/50000 [==============================] - 12s 234us/step - loss: 1.0701 - acc: 0.6464 - val_loss: 1.0442 - val_acc: 0.6540\n",
            "Epoch 12/200\n",
            "50000/50000 [==============================] - 12s 231us/step - loss: 1.0575 - acc: 0.6503 - val_loss: 1.1712 - val_acc: 0.6020\n",
            "Epoch 13/200\n",
            "50000/50000 [==============================] - 12s 231us/step - loss: 1.0379 - acc: 0.6595 - val_loss: 1.0658 - val_acc: 0.6412\n",
            "Epoch 14/200\n",
            "50000/50000 [==============================] - 12s 234us/step - loss: 1.0273 - acc: 0.6616 - val_loss: 0.9950 - val_acc: 0.6731\n",
            "Epoch 15/200\n",
            "50000/50000 [==============================] - 12s 232us/step - loss: 1.0190 - acc: 0.6677 - val_loss: 1.1161 - val_acc: 0.6291\n",
            "Epoch 16/200\n",
            "50000/50000 [==============================] - 12s 237us/step - loss: 1.0020 - acc: 0.6723 - val_loss: 1.0317 - val_acc: 0.6554\n",
            "Epoch 17/200\n",
            "50000/50000 [==============================] - 12s 234us/step - loss: 0.9969 - acc: 0.6740 - val_loss: 1.1837 - val_acc: 0.5926\n",
            "Epoch 18/200\n",
            "50000/50000 [==============================] - 11s 229us/step - loss: 0.9865 - acc: 0.6768 - val_loss: 0.9971 - val_acc: 0.6728\n",
            "Epoch 19/200\n",
            "50000/50000 [==============================] - 12s 235us/step - loss: 0.9757 - acc: 0.6817 - val_loss: 0.9116 - val_acc: 0.7069\n",
            "Epoch 20/200\n",
            "50000/50000 [==============================] - 12s 236us/step - loss: 0.9690 - acc: 0.6859 - val_loss: 0.9298 - val_acc: 0.6960\n",
            "Epoch 21/200\n",
            "50000/50000 [==============================] - 12s 237us/step - loss: 0.9619 - acc: 0.6874 - val_loss: 0.9671 - val_acc: 0.6792\n",
            "Epoch 22/200\n",
            "50000/50000 [==============================] - 12s 235us/step - loss: 0.9555 - acc: 0.6893 - val_loss: 1.0021 - val_acc: 0.6740\n",
            "Epoch 23/200\n",
            "50000/50000 [==============================] - 12s 231us/step - loss: 0.9501 - acc: 0.6906 - val_loss: 0.9574 - val_acc: 0.6845\n",
            "Epoch 24/200\n",
            "50000/50000 [==============================] - 12s 233us/step - loss: 0.9399 - acc: 0.6960 - val_loss: 1.0814 - val_acc: 0.6391\n",
            "Epoch 25/200\n",
            "50000/50000 [==============================] - 11s 229us/step - loss: 0.9394 - acc: 0.6978 - val_loss: 0.9998 - val_acc: 0.6701\n",
            "Epoch 26/200\n",
            "50000/50000 [==============================] - 12s 233us/step - loss: 0.9342 - acc: 0.6969 - val_loss: 0.9544 - val_acc: 0.6891\n",
            "Epoch 27/200\n",
            "50000/50000 [==============================] - 12s 232us/step - loss: 0.9328 - acc: 0.6999 - val_loss: 0.9374 - val_acc: 0.7015\n",
            "Epoch 28/200\n",
            "50000/50000 [==============================] - 12s 231us/step - loss: 0.9224 - acc: 0.7043 - val_loss: 0.9939 - val_acc: 0.6701\n",
            "Epoch 29/200\n",
            "50000/50000 [==============================] - 12s 230us/step - loss: 0.9190 - acc: 0.7055 - val_loss: 0.9473 - val_acc: 0.6977\n",
            "Epoch 30/200\n",
            "50000/50000 [==============================] - 12s 232us/step - loss: 0.9162 - acc: 0.7048 - val_loss: 0.8869 - val_acc: 0.7119\n",
            "Epoch 31/200\n",
            "50000/50000 [==============================] - 12s 236us/step - loss: 0.9087 - acc: 0.7084 - val_loss: 0.9570 - val_acc: 0.6807\n",
            "Epoch 32/200\n",
            "50000/50000 [==============================] - 12s 238us/step - loss: 0.9047 - acc: 0.7099 - val_loss: 0.8467 - val_acc: 0.7318\n",
            "Epoch 33/200\n",
            "50000/50000 [==============================] - 12s 234us/step - loss: 0.9014 - acc: 0.7109 - val_loss: 0.8945 - val_acc: 0.7210\n",
            "Epoch 34/200\n",
            "50000/50000 [==============================] - 12s 234us/step - loss: 0.8958 - acc: 0.7158 - val_loss: 0.8989 - val_acc: 0.7165\n",
            "Epoch 35/200\n",
            "50000/50000 [==============================] - 12s 231us/step - loss: 0.8922 - acc: 0.7157 - val_loss: 0.8706 - val_acc: 0.7251\n",
            "Epoch 36/200\n",
            "50000/50000 [==============================] - 12s 234us/step - loss: 0.8922 - acc: 0.7148 - val_loss: 0.9474 - val_acc: 0.6972\n",
            "Epoch 37/200\n",
            "50000/50000 [==============================] - 12s 239us/step - loss: 0.8845 - acc: 0.7199 - val_loss: 0.8331 - val_acc: 0.7380\n",
            "Epoch 38/200\n",
            "50000/50000 [==============================] - 12s 232us/step - loss: 0.8831 - acc: 0.7187 - val_loss: 0.9933 - val_acc: 0.6764\n",
            "Epoch 39/200\n",
            "50000/50000 [==============================] - 12s 231us/step - loss: 0.8843 - acc: 0.7172 - val_loss: 0.8710 - val_acc: 0.7233\n",
            "Epoch 40/200\n",
            "50000/50000 [==============================] - 12s 239us/step - loss: 0.8764 - acc: 0.7216 - val_loss: 0.8829 - val_acc: 0.7191\n",
            "Epoch 41/200\n",
            "50000/50000 [==============================] - 12s 233us/step - loss: 0.8756 - acc: 0.7223 - val_loss: 0.8444 - val_acc: 0.7330\n",
            "Epoch 42/200\n",
            "50000/50000 [==============================] - 12s 236us/step - loss: 0.8749 - acc: 0.7244 - val_loss: 0.9733 - val_acc: 0.6801\n",
            "Epoch 43/200\n",
            "50000/50000 [==============================] - 12s 233us/step - loss: 0.8677 - acc: 0.7254 - val_loss: 0.9989 - val_acc: 0.6771\n",
            "Epoch 44/200\n",
            "50000/50000 [==============================] - 12s 236us/step - loss: 0.8637 - acc: 0.7259 - val_loss: 0.8993 - val_acc: 0.7205\n",
            "Epoch 45/200\n",
            "50000/50000 [==============================] - 12s 233us/step - loss: 0.8657 - acc: 0.7277 - val_loss: 0.9130 - val_acc: 0.7020\n",
            "Epoch 46/200\n",
            "50000/50000 [==============================] - 12s 232us/step - loss: 0.8567 - acc: 0.7304 - val_loss: 0.8034 - val_acc: 0.7546\n",
            "Epoch 47/200\n",
            "50000/50000 [==============================] - 12s 233us/step - loss: 0.8546 - acc: 0.7286 - val_loss: 0.8499 - val_acc: 0.7366\n",
            "Epoch 48/200\n",
            "50000/50000 [==============================] - 12s 239us/step - loss: 0.8606 - acc: 0.7300 - val_loss: 0.8341 - val_acc: 0.7363\n",
            "Epoch 49/200\n",
            "50000/50000 [==============================] - 12s 234us/step - loss: 0.8552 - acc: 0.7330 - val_loss: 0.8399 - val_acc: 0.7401\n",
            "Epoch 50/200\n",
            "50000/50000 [==============================] - 12s 236us/step - loss: 0.8531 - acc: 0.7320 - val_loss: 0.8011 - val_acc: 0.7545\n",
            "Epoch 51/200\n",
            "50000/50000 [==============================] - 12s 236us/step - loss: 0.8492 - acc: 0.7304 - val_loss: 0.9804 - val_acc: 0.6848\n",
            "Epoch 52/200\n",
            "50000/50000 [==============================] - 12s 231us/step - loss: 0.8500 - acc: 0.7347 - val_loss: 0.8141 - val_acc: 0.7475\n",
            "Epoch 53/200\n",
            "50000/50000 [==============================] - 12s 232us/step - loss: 0.8449 - acc: 0.7372 - val_loss: 0.8948 - val_acc: 0.7160\n",
            "Epoch 54/200\n",
            "50000/50000 [==============================] - 12s 231us/step - loss: 0.8481 - acc: 0.7336 - val_loss: 0.8625 - val_acc: 0.7359\n",
            "Epoch 55/200\n",
            "50000/50000 [==============================] - 12s 236us/step - loss: 0.8427 - acc: 0.7360 - val_loss: 0.8604 - val_acc: 0.7299\n",
            "Epoch 56/200\n",
            "50000/50000 [==============================] - 12s 237us/step - loss: 0.8436 - acc: 0.7360 - val_loss: 0.9058 - val_acc: 0.7167\n",
            "Epoch 57/200\n",
            "50000/50000 [==============================] - 11s 228us/step - loss: 0.8417 - acc: 0.7376 - val_loss: 0.8736 - val_acc: 0.7250\n",
            "Epoch 58/200\n",
            "50000/50000 [==============================] - 12s 235us/step - loss: 0.8405 - acc: 0.7362 - val_loss: 0.8620 - val_acc: 0.7267\n",
            "Epoch 59/200\n",
            "50000/50000 [==============================] - 12s 236us/step - loss: 0.8356 - acc: 0.7400 - val_loss: 0.8203 - val_acc: 0.7481\n",
            "Epoch 60/200\n",
            "50000/50000 [==============================] - 12s 235us/step - loss: 0.8365 - acc: 0.7404 - val_loss: 0.9548 - val_acc: 0.6935\n",
            "Epoch 61/200\n",
            "50000/50000 [==============================] - 12s 234us/step - loss: 0.8288 - acc: 0.7406 - val_loss: 0.8892 - val_acc: 0.7212\n",
            "Epoch 62/200\n",
            "50000/50000 [==============================] - 12s 234us/step - loss: 0.8306 - acc: 0.7394 - val_loss: 0.7941 - val_acc: 0.7562\n",
            "Epoch 63/200\n",
            "50000/50000 [==============================] - 12s 231us/step - loss: 0.8279 - acc: 0.7405 - val_loss: 0.8724 - val_acc: 0.7242\n",
            "Epoch 64/200\n",
            "50000/50000 [==============================] - 12s 232us/step - loss: 0.8298 - acc: 0.7430 - val_loss: 0.8606 - val_acc: 0.7275\n",
            "Epoch 65/200\n",
            "50000/50000 [==============================] - 12s 233us/step - loss: 0.8258 - acc: 0.7432 - val_loss: 0.8297 - val_acc: 0.7437\n",
            "Epoch 66/200\n",
            "50000/50000 [==============================] - 12s 231us/step - loss: 0.8289 - acc: 0.7421 - val_loss: 0.8224 - val_acc: 0.7451\n",
            "Epoch 67/200\n",
            "50000/50000 [==============================] - 12s 233us/step - loss: 0.8251 - acc: 0.7430 - val_loss: 0.8382 - val_acc: 0.7340\n",
            "Epoch 68/200\n",
            "50000/50000 [==============================] - 12s 232us/step - loss: 0.8239 - acc: 0.7432 - val_loss: 0.8171 - val_acc: 0.7463\n",
            "Epoch 69/200\n",
            "50000/50000 [==============================] - 12s 236us/step - loss: 0.8268 - acc: 0.7421 - val_loss: 0.9042 - val_acc: 0.7123\n",
            "Epoch 70/200\n",
            "50000/50000 [==============================] - 12s 233us/step - loss: 0.8213 - acc: 0.7448 - val_loss: 0.8811 - val_acc: 0.7271\n",
            "Epoch 71/200\n",
            "50000/50000 [==============================] - 12s 234us/step - loss: 0.8213 - acc: 0.7446 - val_loss: 0.8513 - val_acc: 0.7329\n",
            "Epoch 72/200\n",
            "50000/50000 [==============================] - 12s 234us/step - loss: 0.8188 - acc: 0.7465 - val_loss: 0.9329 - val_acc: 0.7020\n",
            "Epoch 73/200\n",
            "50000/50000 [==============================] - 12s 236us/step - loss: 0.8166 - acc: 0.7469 - val_loss: 0.7980 - val_acc: 0.7533\n",
            "Epoch 74/200\n",
            "50000/50000 [==============================] - 12s 234us/step - loss: 0.8163 - acc: 0.7481 - val_loss: 0.7994 - val_acc: 0.7562\n",
            "Epoch 75/200\n",
            "50000/50000 [==============================] - 12s 231us/step - loss: 0.8173 - acc: 0.7460 - val_loss: 0.8043 - val_acc: 0.7548\n",
            "Epoch 76/200\n",
            "50000/50000 [==============================] - 12s 233us/step - loss: 0.8128 - acc: 0.7462 - val_loss: 0.8653 - val_acc: 0.7277\n",
            "Epoch 77/200\n",
            "50000/50000 [==============================] - 12s 240us/step - loss: 0.8117 - acc: 0.7472 - val_loss: 0.8560 - val_acc: 0.7292\n",
            "Epoch 78/200\n",
            "50000/50000 [==============================] - 12s 235us/step - loss: 0.8110 - acc: 0.7483 - val_loss: 0.8013 - val_acc: 0.7535\n",
            "Epoch 79/200\n",
            "50000/50000 [==============================] - 12s 231us/step - loss: 0.8161 - acc: 0.7467 - val_loss: 0.9295 - val_acc: 0.7115\n",
            "Epoch 80/200\n",
            "50000/50000 [==============================] - 12s 238us/step - loss: 0.8032 - acc: 0.7511 - val_loss: 0.8850 - val_acc: 0.7255\n",
            "Epoch 81/200\n",
            "50000/50000 [==============================] - 12s 237us/step - loss: 0.8081 - acc: 0.7501 - val_loss: 0.8211 - val_acc: 0.7491\n",
            "Epoch 82/200\n",
            "50000/50000 [==============================] - 11s 230us/step - loss: 0.8096 - acc: 0.7494 - val_loss: 0.8943 - val_acc: 0.7176\n",
            "Epoch 83/200\n",
            "50000/50000 [==============================] - 12s 232us/step - loss: 0.8015 - acc: 0.7528 - val_loss: 0.8615 - val_acc: 0.7336\n",
            "Epoch 84/200\n",
            "50000/50000 [==============================] - 12s 235us/step - loss: 0.8073 - acc: 0.7515 - val_loss: 0.8588 - val_acc: 0.7450\n",
            "Epoch 85/200\n",
            "50000/50000 [==============================] - 12s 232us/step - loss: 0.8095 - acc: 0.7487 - val_loss: 0.8093 - val_acc: 0.7504\n",
            "Epoch 86/200\n",
            "50000/50000 [==============================] - 12s 231us/step - loss: 0.8047 - acc: 0.7508 - val_loss: 0.8494 - val_acc: 0.7367\n",
            "Epoch 87/200\n",
            "50000/50000 [==============================] - 12s 240us/step - loss: 0.8010 - acc: 0.7528 - val_loss: 0.8410 - val_acc: 0.7432\n",
            "Epoch 88/200\n",
            "50000/50000 [==============================] - 12s 245us/step - loss: 0.8021 - acc: 0.7527 - val_loss: 0.8293 - val_acc: 0.7506\n",
            "Epoch 89/200\n",
            "50000/50000 [==============================] - 12s 246us/step - loss: 0.8012 - acc: 0.7517 - val_loss: 0.8174 - val_acc: 0.7478\n",
            "Epoch 90/200\n",
            "50000/50000 [==============================] - 12s 245us/step - loss: 0.8007 - acc: 0.7532 - val_loss: 0.8241 - val_acc: 0.7473\n",
            "Epoch 91/200\n",
            "50000/50000 [==============================] - 12s 246us/step - loss: 0.8047 - acc: 0.7524 - val_loss: 0.8795 - val_acc: 0.7249\n",
            "Epoch 92/200\n",
            "50000/50000 [==============================] - 12s 249us/step - loss: 0.7986 - acc: 0.7563 - val_loss: 0.8093 - val_acc: 0.7538\n",
            "Epoch 93/200\n",
            "50000/50000 [==============================] - 12s 245us/step - loss: 0.8031 - acc: 0.7531 - val_loss: 0.8035 - val_acc: 0.7557\n",
            "Epoch 94/200\n",
            "50000/50000 [==============================] - 12s 247us/step - loss: 0.7987 - acc: 0.7518 - val_loss: 0.8974 - val_acc: 0.7201\n",
            "Epoch 95/200\n",
            "50000/50000 [==============================] - 12s 245us/step - loss: 0.7996 - acc: 0.7540 - val_loss: 0.9316 - val_acc: 0.7110\n",
            "Epoch 96/200\n",
            "50000/50000 [==============================] - 12s 245us/step - loss: 0.7968 - acc: 0.7547 - val_loss: 0.7637 - val_acc: 0.7710\n",
            "Epoch 97/200\n",
            "50000/50000 [==============================] - 12s 246us/step - loss: 0.7949 - acc: 0.7574 - val_loss: 0.8054 - val_acc: 0.7505\n",
            "Epoch 98/200\n",
            "50000/50000 [==============================] - 12s 246us/step - loss: 0.7969 - acc: 0.7546 - val_loss: 0.8369 - val_acc: 0.7426\n",
            "Epoch 99/200\n",
            "50000/50000 [==============================] - 13s 253us/step - loss: 0.7964 - acc: 0.7554 - val_loss: 0.8732 - val_acc: 0.7292\n",
            "Epoch 100/200\n",
            "50000/50000 [==============================] - 13s 253us/step - loss: 0.7937 - acc: 0.7562 - val_loss: 0.8609 - val_acc: 0.7405\n",
            "Epoch 101/200\n",
            "50000/50000 [==============================] - 13s 253us/step - loss: 0.7900 - acc: 0.7579 - val_loss: 0.9140 - val_acc: 0.7165\n",
            "Epoch 102/200\n",
            "50000/50000 [==============================] - 13s 253us/step - loss: 0.7949 - acc: 0.7560 - val_loss: 0.7924 - val_acc: 0.7642\n",
            "Epoch 103/200\n",
            "50000/50000 [==============================] - 13s 252us/step - loss: 0.7912 - acc: 0.7567 - val_loss: 0.9364 - val_acc: 0.7071\n",
            "Epoch 104/200\n",
            "50000/50000 [==============================] - 13s 252us/step - loss: 0.7993 - acc: 0.7556 - val_loss: 0.9018 - val_acc: 0.7187\n",
            "Epoch 105/200\n",
            "50000/50000 [==============================] - 13s 252us/step - loss: 0.7933 - acc: 0.7566 - val_loss: 0.7903 - val_acc: 0.7583\n",
            "Epoch 106/200\n",
            "50000/50000 [==============================] - 13s 253us/step - loss: 0.7934 - acc: 0.7572 - val_loss: 0.7932 - val_acc: 0.7629\n",
            "Epoch 107/200\n",
            "50000/50000 [==============================] - 13s 252us/step - loss: 0.7930 - acc: 0.7569 - val_loss: 0.8181 - val_acc: 0.7499\n",
            "Epoch 108/200\n",
            "50000/50000 [==============================] - 13s 251us/step - loss: 0.7894 - acc: 0.7581 - val_loss: 0.9194 - val_acc: 0.7104\n",
            "Epoch 109/200\n",
            "50000/50000 [==============================] - 12s 248us/step - loss: 0.7894 - acc: 0.7578 - val_loss: 0.8009 - val_acc: 0.7642\n",
            "Epoch 110/200\n",
            "50000/50000 [==============================] - 11s 229us/step - loss: 0.7855 - acc: 0.7607 - val_loss: 0.8509 - val_acc: 0.7388\n",
            "Epoch 111/200\n",
            "50000/50000 [==============================] - 12s 236us/step - loss: 0.7910 - acc: 0.7570 - val_loss: 0.8448 - val_acc: 0.7444\n",
            "Epoch 112/200\n",
            "50000/50000 [==============================] - 12s 233us/step - loss: 0.7860 - acc: 0.7609 - val_loss: 0.7966 - val_acc: 0.7634\n",
            "Epoch 113/200\n",
            "50000/50000 [==============================] - 12s 233us/step - loss: 0.7807 - acc: 0.7624 - val_loss: 0.8974 - val_acc: 0.7248\n",
            "Epoch 114/200\n",
            "50000/50000 [==============================] - 12s 235us/step - loss: 0.7856 - acc: 0.7616 - val_loss: 0.8705 - val_acc: 0.7239\n",
            "Epoch 115/200\n",
            "50000/50000 [==============================] - 12s 235us/step - loss: 0.7850 - acc: 0.7623 - val_loss: 0.7920 - val_acc: 0.7645\n",
            "Epoch 116/200\n",
            "50000/50000 [==============================] - 12s 237us/step - loss: 0.7835 - acc: 0.7621 - val_loss: 0.7731 - val_acc: 0.7684\n",
            "Epoch 117/200\n",
            "50000/50000 [==============================] - 12s 232us/step - loss: 0.7841 - acc: 0.7602 - val_loss: 0.7901 - val_acc: 0.7628\n",
            "Epoch 118/200\n",
            "50000/50000 [==============================] - 12s 234us/step - loss: 0.7814 - acc: 0.7613 - val_loss: 0.7751 - val_acc: 0.7666\n",
            "Epoch 119/200\n",
            "50000/50000 [==============================] - 12s 234us/step - loss: 0.7812 - acc: 0.7624 - val_loss: 0.8181 - val_acc: 0.7482\n",
            "Epoch 120/200\n",
            "50000/50000 [==============================] - 12s 236us/step - loss: 0.7874 - acc: 0.7612 - val_loss: 0.7800 - val_acc: 0.7623\n",
            "Epoch 121/200\n",
            "50000/50000 [==============================] - 12s 232us/step - loss: 0.7789 - acc: 0.7628 - val_loss: 0.7768 - val_acc: 0.7658\n",
            "Epoch 122/200\n",
            "50000/50000 [==============================] - 12s 233us/step - loss: 0.7831 - acc: 0.7610 - val_loss: 0.7613 - val_acc: 0.7747\n",
            "Epoch 123/200\n",
            "50000/50000 [==============================] - 12s 234us/step - loss: 0.7771 - acc: 0.7609 - val_loss: 0.7840 - val_acc: 0.7699\n",
            "Epoch 124/200\n",
            "50000/50000 [==============================] - 12s 237us/step - loss: 0.7767 - acc: 0.7633 - val_loss: 0.8295 - val_acc: 0.7448\n",
            "Epoch 125/200\n",
            "50000/50000 [==============================] - 12s 237us/step - loss: 0.7840 - acc: 0.7617 - val_loss: 0.8481 - val_acc: 0.7478\n",
            "Epoch 126/200\n",
            "50000/50000 [==============================] - 12s 237us/step - loss: 0.7824 - acc: 0.7606 - val_loss: 0.8509 - val_acc: 0.7414\n",
            "Epoch 127/200\n",
            "50000/50000 [==============================] - 12s 244us/step - loss: 0.7813 - acc: 0.7610 - val_loss: 0.8308 - val_acc: 0.7518\n",
            "Epoch 128/200\n",
            "50000/50000 [==============================] - 12s 245us/step - loss: 0.7814 - acc: 0.7625 - val_loss: 0.8601 - val_acc: 0.7332\n",
            "Epoch 129/200\n",
            "50000/50000 [==============================] - 12s 239us/step - loss: 0.7817 - acc: 0.7622 - val_loss: 0.8066 - val_acc: 0.7566\n",
            "Epoch 130/200\n",
            "50000/50000 [==============================] - 12s 239us/step - loss: 0.7800 - acc: 0.7619 - val_loss: 0.7945 - val_acc: 0.7594\n",
            "Epoch 131/200\n",
            "50000/50000 [==============================] - 12s 243us/step - loss: 0.7786 - acc: 0.7645 - val_loss: 0.8492 - val_acc: 0.7375\n",
            "Epoch 132/200\n",
            "50000/50000 [==============================] - 12s 240us/step - loss: 0.7774 - acc: 0.7628 - val_loss: 0.8438 - val_acc: 0.7390\n",
            "Epoch 133/200\n",
            "50000/50000 [==============================] - 12s 238us/step - loss: 0.7781 - acc: 0.7619 - val_loss: 0.7591 - val_acc: 0.7706\n",
            "Epoch 134/200\n",
            "50000/50000 [==============================] - 12s 239us/step - loss: 0.7805 - acc: 0.7624 - val_loss: 0.7541 - val_acc: 0.7751\n",
            "Epoch 135/200\n",
            "50000/50000 [==============================] - 12s 242us/step - loss: 0.7814 - acc: 0.7642 - val_loss: 0.7967 - val_acc: 0.7587\n",
            "Epoch 136/200\n",
            "50000/50000 [==============================] - 13s 259us/step - loss: 0.7761 - acc: 0.7666 - val_loss: 0.7948 - val_acc: 0.7607\n",
            "Epoch 137/200\n",
            "50000/50000 [==============================] - 13s 261us/step - loss: 0.7744 - acc: 0.7655 - val_loss: 0.7741 - val_acc: 0.7669\n",
            "Epoch 138/200\n",
            "50000/50000 [==============================] - 13s 258us/step - loss: 0.7796 - acc: 0.7621 - val_loss: 0.8757 - val_acc: 0.7244\n",
            "Epoch 139/200\n",
            "50000/50000 [==============================] - 13s 256us/step - loss: 0.7751 - acc: 0.7638 - val_loss: 0.7716 - val_acc: 0.7681\n",
            "Epoch 140/200\n",
            "50000/50000 [==============================] - 13s 257us/step - loss: 0.7740 - acc: 0.7627 - val_loss: 0.9247 - val_acc: 0.7048\n",
            "Epoch 141/200\n",
            "50000/50000 [==============================] - 13s 257us/step - loss: 0.7727 - acc: 0.7649 - val_loss: 0.9105 - val_acc: 0.7128\n",
            "Epoch 142/200\n",
            "50000/50000 [==============================] - 13s 260us/step - loss: 0.7778 - acc: 0.7646 - val_loss: 0.8522 - val_acc: 0.7414\n",
            "Epoch 143/200\n",
            "50000/50000 [==============================] - 13s 260us/step - loss: 0.7739 - acc: 0.7662 - val_loss: 0.7772 - val_acc: 0.7676\n",
            "Epoch 144/200\n",
            "50000/50000 [==============================] - 13s 256us/step - loss: 0.7753 - acc: 0.7652 - val_loss: 0.8685 - val_acc: 0.7417\n",
            "Epoch 145/200\n",
            "50000/50000 [==============================] - 13s 269us/step - loss: 0.7745 - acc: 0.7642 - val_loss: 0.8372 - val_acc: 0.7483\n",
            "Epoch 146/200\n",
            "50000/50000 [==============================] - 13s 266us/step - loss: 0.7720 - acc: 0.7684 - val_loss: 0.7995 - val_acc: 0.7601\n",
            "Epoch 147/200\n",
            "50000/50000 [==============================] - 13s 268us/step - loss: 0.7756 - acc: 0.7623 - val_loss: 0.8464 - val_acc: 0.7386\n",
            "Epoch 148/200\n",
            "50000/50000 [==============================] - 14s 272us/step - loss: 0.7702 - acc: 0.7672 - val_loss: 0.8773 - val_acc: 0.7363\n",
            "Epoch 149/200\n",
            "50000/50000 [==============================] - 14s 276us/step - loss: 0.7743 - acc: 0.7633 - val_loss: 0.7783 - val_acc: 0.7697\n",
            "Epoch 150/200\n",
            "50000/50000 [==============================] - 12s 247us/step - loss: 0.7708 - acc: 0.7675 - val_loss: 0.9877 - val_acc: 0.6794\n",
            "Epoch 151/200\n",
            "50000/50000 [==============================] - 12s 239us/step - loss: 0.7758 - acc: 0.7653 - val_loss: 0.7959 - val_acc: 0.7670\n",
            "Epoch 152/200\n",
            "50000/50000 [==============================] - 11s 229us/step - loss: 0.7701 - acc: 0.7674 - val_loss: 0.8229 - val_acc: 0.7551\n",
            "Epoch 153/200\n",
            "50000/50000 [==============================] - 12s 236us/step - loss: 0.7781 - acc: 0.7641 - val_loss: 0.7706 - val_acc: 0.7713\n",
            "Epoch 154/200\n",
            "50000/50000 [==============================] - 12s 236us/step - loss: 0.7749 - acc: 0.7650 - val_loss: 0.8077 - val_acc: 0.7619\n",
            "Epoch 155/200\n",
            "50000/50000 [==============================] - 12s 237us/step - loss: 0.7681 - acc: 0.7672 - val_loss: 0.9311 - val_acc: 0.7146\n",
            "Epoch 156/200\n",
            "50000/50000 [==============================] - 12s 239us/step - loss: 0.7694 - acc: 0.7670 - val_loss: 0.7681 - val_acc: 0.7722\n",
            "Epoch 157/200\n",
            "50000/50000 [==============================] - 12s 236us/step - loss: 0.7691 - acc: 0.7653 - val_loss: 0.7852 - val_acc: 0.7630\n",
            "Epoch 158/200\n",
            "50000/50000 [==============================] - 12s 232us/step - loss: 0.7716 - acc: 0.7657 - val_loss: 0.8242 - val_acc: 0.7589\n",
            "Epoch 159/200\n",
            "50000/50000 [==============================] - 12s 236us/step - loss: 0.7693 - acc: 0.7682 - val_loss: 0.8327 - val_acc: 0.7522\n",
            "Epoch 160/200\n",
            "50000/50000 [==============================] - 12s 237us/step - loss: 0.7720 - acc: 0.7675 - val_loss: 0.8534 - val_acc: 0.7501\n",
            "Epoch 161/200\n",
            "50000/50000 [==============================] - 12s 237us/step - loss: 0.7678 - acc: 0.7664 - val_loss: 0.8180 - val_acc: 0.7499\n",
            "Epoch 162/200\n",
            "50000/50000 [==============================] - 12s 235us/step - loss: 0.7694 - acc: 0.7672 - val_loss: 0.7527 - val_acc: 0.7800\n",
            "Epoch 163/200\n",
            "50000/50000 [==============================] - 12s 239us/step - loss: 0.7689 - acc: 0.7673 - val_loss: 0.8376 - val_acc: 0.7466\n",
            "Epoch 164/200\n",
            "50000/50000 [==============================] - 12s 237us/step - loss: 0.7724 - acc: 0.7677 - val_loss: 0.7973 - val_acc: 0.7614\n",
            "Epoch 165/200\n",
            "50000/50000 [==============================] - 12s 238us/step - loss: 0.7731 - acc: 0.7641 - val_loss: 0.7622 - val_acc: 0.7738\n",
            "Epoch 166/200\n",
            "50000/50000 [==============================] - 12s 231us/step - loss: 0.7700 - acc: 0.7677 - val_loss: 0.8244 - val_acc: 0.7454\n",
            "Epoch 167/200\n",
            "50000/50000 [==============================] - 12s 231us/step - loss: 0.7699 - acc: 0.7686 - val_loss: 0.8386 - val_acc: 0.7490\n",
            "Epoch 168/200\n",
            "50000/50000 [==============================] - 12s 230us/step - loss: 0.7637 - acc: 0.7672 - val_loss: 0.8627 - val_acc: 0.7335\n",
            "Epoch 169/200\n",
            "50000/50000 [==============================] - 12s 231us/step - loss: 0.7673 - acc: 0.7682 - val_loss: 0.8201 - val_acc: 0.7487\n",
            "Epoch 170/200\n",
            "50000/50000 [==============================] - 12s 241us/step - loss: 0.7688 - acc: 0.7657 - val_loss: 0.8124 - val_acc: 0.7566\n",
            "Epoch 171/200\n",
            "50000/50000 [==============================] - 12s 233us/step - loss: 0.7675 - acc: 0.7663 - val_loss: 0.7979 - val_acc: 0.7606\n",
            "Epoch 172/200\n",
            "50000/50000 [==============================] - 11s 230us/step - loss: 0.7670 - acc: 0.7680 - val_loss: 0.8060 - val_acc: 0.7596\n",
            "Epoch 173/200\n",
            "50000/50000 [==============================] - 12s 235us/step - loss: 0.7654 - acc: 0.7705 - val_loss: 0.7493 - val_acc: 0.7744\n",
            "Epoch 174/200\n",
            "50000/50000 [==============================] - 12s 237us/step - loss: 0.7647 - acc: 0.7694 - val_loss: 0.7629 - val_acc: 0.7724\n",
            "Epoch 175/200\n",
            "50000/50000 [==============================] - 12s 239us/step - loss: 0.7676 - acc: 0.7687 - val_loss: 0.8233 - val_acc: 0.7492\n",
            "Epoch 176/200\n",
            "50000/50000 [==============================] - 12s 239us/step - loss: 0.7661 - acc: 0.7662 - val_loss: 0.8564 - val_acc: 0.7457\n",
            "Epoch 177/200\n",
            "50000/50000 [==============================] - 12s 241us/step - loss: 0.7685 - acc: 0.7663 - val_loss: 0.8092 - val_acc: 0.7606\n",
            "Epoch 178/200\n",
            "50000/50000 [==============================] - 12s 233us/step - loss: 0.7627 - acc: 0.7705 - val_loss: 0.8101 - val_acc: 0.7526\n",
            "Epoch 179/200\n",
            "50000/50000 [==============================] - 12s 231us/step - loss: 0.7697 - acc: 0.7656 - val_loss: 0.8722 - val_acc: 0.7429\n",
            "Epoch 180/200\n",
            "50000/50000 [==============================] - 12s 234us/step - loss: 0.7668 - acc: 0.7690 - val_loss: 0.8525 - val_acc: 0.7327\n",
            "Epoch 181/200\n",
            "50000/50000 [==============================] - 12s 238us/step - loss: 0.7669 - acc: 0.7685 - val_loss: 0.8162 - val_acc: 0.7508\n",
            "Epoch 182/200\n",
            "50000/50000 [==============================] - 12s 233us/step - loss: 0.7686 - acc: 0.7685 - val_loss: 0.7867 - val_acc: 0.7668\n",
            "Epoch 183/200\n",
            "50000/50000 [==============================] - 12s 234us/step - loss: 0.7647 - acc: 0.7708 - val_loss: 0.7954 - val_acc: 0.7629\n",
            "Epoch 184/200\n",
            "50000/50000 [==============================] - 12s 234us/step - loss: 0.7650 - acc: 0.7680 - val_loss: 0.8091 - val_acc: 0.7634\n",
            "Epoch 185/200\n",
            "50000/50000 [==============================] - 12s 232us/step - loss: 0.7661 - acc: 0.7690 - val_loss: 0.8169 - val_acc: 0.7540\n",
            "Epoch 186/200\n",
            "50000/50000 [==============================] - 12s 230us/step - loss: 0.7618 - acc: 0.7684 - val_loss: 0.8247 - val_acc: 0.7486\n",
            "Epoch 187/200\n",
            "50000/50000 [==============================] - 11s 230us/step - loss: 0.7601 - acc: 0.7708 - val_loss: 0.7727 - val_acc: 0.7695\n",
            "Epoch 188/200\n",
            "50000/50000 [==============================] - 12s 230us/step - loss: 0.7677 - acc: 0.7690 - val_loss: 0.8959 - val_acc: 0.7335\n",
            "Epoch 189/200\n",
            "50000/50000 [==============================] - 12s 235us/step - loss: 0.7588 - acc: 0.7714 - val_loss: 0.8051 - val_acc: 0.7573\n",
            "Epoch 190/200\n",
            "50000/50000 [==============================] - 12s 232us/step - loss: 0.7637 - acc: 0.7690 - val_loss: 0.7810 - val_acc: 0.7631\n",
            "Epoch 191/200\n",
            "50000/50000 [==============================] - 12s 238us/step - loss: 0.7640 - acc: 0.7703 - val_loss: 0.7933 - val_acc: 0.7572\n",
            "Epoch 192/200\n",
            "50000/50000 [==============================] - 12s 236us/step - loss: 0.7660 - acc: 0.7684 - val_loss: 0.8614 - val_acc: 0.7405\n",
            "Epoch 193/200\n",
            "50000/50000 [==============================] - 12s 236us/step - loss: 0.7618 - acc: 0.7707 - val_loss: 0.7491 - val_acc: 0.7800\n",
            "Epoch 194/200\n",
            "50000/50000 [==============================] - 12s 232us/step - loss: 0.7605 - acc: 0.7699 - val_loss: 0.7681 - val_acc: 0.7740\n",
            "Epoch 195/200\n",
            "50000/50000 [==============================] - 12s 233us/step - loss: 0.7595 - acc: 0.7722 - val_loss: 0.7783 - val_acc: 0.7668\n",
            "Epoch 196/200\n",
            "50000/50000 [==============================] - 11s 229us/step - loss: 0.7594 - acc: 0.7709 - val_loss: 0.7569 - val_acc: 0.7750\n",
            "Epoch 197/200\n",
            "50000/50000 [==============================] - 12s 233us/step - loss: 0.7593 - acc: 0.7712 - val_loss: 0.7768 - val_acc: 0.7666\n",
            "Epoch 198/200\n",
            "50000/50000 [==============================] - 12s 233us/step - loss: 0.7592 - acc: 0.7705 - val_loss: 0.8579 - val_acc: 0.7474\n",
            "Epoch 199/200\n",
            "50000/50000 [==============================] - 12s 234us/step - loss: 0.7577 - acc: 0.7742 - val_loss: 0.7791 - val_acc: 0.7692\n",
            "Epoch 200/200\n",
            "50000/50000 [==============================] - 12s 237us/step - loss: 0.7584 - acc: 0.7700 - val_loss: 0.7969 - val_acc: 0.7617\n"
          ],
          "name": "stdout"
        }
      ]
    },
    {
      "metadata": {
        "id": "kcDNRpLUiv47",
        "colab_type": "text"
      },
      "cell_type": "markdown",
      "source": [
        "Print the validation accuracy"
      ]
    },
    {
      "metadata": {
        "id": "3ov9Eg2hr2h4",
        "colab_type": "code",
        "outputId": "3b69ed3e-8a17-44ad-aeb4-e6352037b68d",
        "colab": {
          "base_uri": "https://localhost:8080/",
          "height": 34
        }
      },
      "cell_type": "code",
      "source": [
        "scores = model.evaluate(x_test, y_test, verbose=0)\n",
        "print(\"Accuracy: %.2f%%\" % (scores[1]*100))"
      ],
      "execution_count": 0,
      "outputs": [
        {
          "output_type": "stream",
          "text": [
            "Accuracy: 76.17%\n"
          ],
          "name": "stdout"
        }
      ]
    },
    {
      "metadata": {
        "id": "X81w5Dxfizr_",
        "colab_type": "text"
      },
      "cell_type": "markdown",
      "source": [
        "Model accuracy and loss plots"
      ]
    },
    {
      "metadata": {
        "id": "AYHvvGDBsA1v",
        "colab_type": "code",
        "outputId": "f2585c8d-b11e-417e-a128-471509d6f7a6",
        "colab": {
          "base_uri": "https://localhost:8080/",
          "height": 733
        }
      },
      "cell_type": "code",
      "source": [
        "# summarize history for accuracy\n",
        "plt.plot(history.history['acc'])\n",
        "plt.plot(history.history['val_acc'])\n",
        "plt.title('model accuracy')\n",
        "plt.ylabel('accuracy')\n",
        "plt.xlabel('epoch')\n",
        "plt.legend(['train', 'test'], loc='upper left')\n",
        "plt.show()\n",
        "# summarize history for loss\n",
        "plt.plot(history.history['loss'])\n",
        "plt.plot(history.history['val_loss'])\n",
        "plt.title('model loss')\n",
        "plt.ylabel('loss')\n",
        "plt.xlabel('epoch')\n",
        "plt.legend(['train', 'test'], loc='upper left')\n",
        "plt.show()"
      ],
      "execution_count": 0,
      "outputs": [
        {
          "output_type": "display_data",
          "data": {
            "image/png": "[encoded data removed]",
            "text/plain": [
              "<Figure size 576x396 with 1 Axes>"
            ]
          },
          "metadata": {
            "tags": []
          }
        },
        {
          "output_type": "display_data",
          "data": {
            "image/png": "[encoded data removed]",
            "text/plain": [
              "<Figure size 576x396 with 1 Axes>"
            ]
          },
          "metadata": {
            "tags": []
          }
        }
      ]
    }
  ]
}